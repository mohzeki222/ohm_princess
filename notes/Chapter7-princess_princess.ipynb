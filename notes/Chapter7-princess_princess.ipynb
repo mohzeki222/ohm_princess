{
 "cells": [
  {
   "cell_type": "code",
   "execution_count": 1,
   "metadata": {},
   "outputs": [],
   "source": [
    "#princess.pyをダウンロードしてから以下を実行してください。\n",
    "from google.colab import files\n",
    "uploaded = files.upload()"
   ]
  },
  {
   "cell_type": "code",
   "execution_count": null,
   "metadata": {},
   "outputs": [],
   "source": [
    "import numpy as np\n",
    "import matplotlib.pyplot as plt\n",
    "\n",
    "import chainer.optimizers as Opt\n",
    "import chainer.functions as F\n",
    "import chainer.links as L\n",
    "import chainer.datasets as ds\n",
    "import chainer.dataset.convert as con\n",
    "from chainer.iterators import SerialIterator as siter\n",
    "from chainer import Variable,Chain,config,cuda\n",
    "\n",
    "import princess as ohm"
   ]
  },
  {
   "cell_type": "code",
   "execution_count": null,
   "metadata": {},
   "outputs": [],
   "source": [
    "ohm.download_fig()"
   ]
  },
  {
   "cell_type": "code",
   "execution_count": 2,
   "metadata": {},
   "outputs": [
    {
     "data": {
      "text/plain": [
       "[('princess_fig/kisaki15.jpg', 0),\n",
       " ('princess_fig/kisaki01.jpg', 0),\n",
       " ('princess_fig/kisaki14.jpg', 0),\n",
       " ('princess_fig/kisaki18.jpg', 0),\n",
       " ('princess_fig/kisaki08.jpg', 0),\n",
       " ('princess_fig/kisaki00.jpg', 0),\n",
       " ('princess_fig/kisaki15b.jpg', 0),\n",
       " ('princess_fig/kisaki02.jpg', 0),\n",
       " ('princess_fig/kisaki12.jpg', 0),\n",
       " ('princess_fig/kisaki13.jpg', 0),\n",
       " ('princess_fig/kisaki04.jpg', 0),\n",
       " ('princess_fig/kisaki09.jpg', 0),\n",
       " ('princess_fig/kisaki10b.jpg', 0),\n",
       " ('princess_fig/kisaki07.jpg', 0),\n",
       " ('princess_fig/kisaki16.jpg', 0),\n",
       " ('princess_fig/kisaki06.jpg', 0),\n",
       " ('princess_fig/kisaki03.jpg', 0),\n",
       " ('princess_fig/kisaki10.jpg', 0),\n",
       " ('princess_fig/kisaki05.jpg', 0),\n",
       " ('princess_fig/kisaki17.jpg', 0),\n",
       " ('princess_fig/kisaki11.jpg', 0),\n",
       " ('white_fig/sira00困ったのコピー.jpg', 1),\n",
       " ('white_fig/sira00はてなのコピー.jpg', 1),\n",
       " ('white_fig/sira00にっこりのコピー.jpg', 1),\n",
       " ('white_fig/sira00あらのコピー.jpg', 1),\n",
       " ('white_fig/sira00.jpg', 1),\n",
       " ('white_fig/sira00困った.jpg', 1),\n",
       " ('white_fig/sira00あら.jpg', 1),\n",
       " ('white_fig/sira00にっこり.jpg', 1),\n",
       " ('white_fig/sira00素敵ですねのコピー.jpg', 1),\n",
       " ('white_fig/sira00素敵ですね.jpg', 1),\n",
       " ('white_fig/sira00のコピー.jpg', 1),\n",
       " ('white_fig/sira00はてな.jpg', 1)]"
      ]
     },
     "execution_count": 2,
     "metadata": {},
     "output_type": "execute_result"
    }
   ],
   "source": [
    "all_list = []\n",
    "ohm.add_labeled_data(\"princess_fig\",0,all_list)\n",
    "ohm.add_labeled_data(\"white_fig\",1,all_list)"
   ]
  },
  {
   "cell_type": "code",
   "execution_count": 3,
   "metadata": {},
   "outputs": [],
   "source": [
    "dataset = ds.LabeledImageDataset(all_list)"
   ]
  },
  {
   "cell_type": "code",
   "execution_count": 4,
   "metadata": {},
   "outputs": [],
   "source": [
    "dataset = ds.TransformDataset(dataset, ohm.labeled64)"
   ]
  },
  {
   "cell_type": "code",
   "execution_count": 5,
   "metadata": {},
   "outputs": [
    {
     "data": {
      "image/png": "[encoded data removed]",
      "text/plain": [
       "<Figure size 432x288 with 1 Axes>"
      ]
     },
     "metadata": {},
     "output_type": "display_data"
    }
   ],
   "source": [
    "plt.imshow(dataset[0][0].transpose(1,2,0))\n",
    "plt.show()"
   ]
  },
  {
   "cell_type": "code",
   "execution_count": 6,
   "metadata": {},
   "outputs": [],
   "source": [
    "D = len(dataset)\n",
    "Dtrain = D//2\n",
    "train, test = ds.split_dataset_random(dataset, Dtrain)\n",
    "xtrain,ttrain = con.concat_examples(train)\n",
    "xtest,ttest = con.concat_examples(test)"
   ]
  },
  {
   "cell_type": "code",
   "execution_count": 7,
   "metadata": {},
   "outputs": [
    {
     "name": "stdout",
     "output_type": "stream",
     "text": [
      "16 3 64 64\n"
     ]
    }
   ],
   "source": [
    "Dtrain,ch,Ny,Nx = xtrain.shape\n",
    "print(Dtrain,ch,Ny,Nx)"
   ]
  },
  {
   "cell_type": "code",
   "execution_count": 8,
   "metadata": {},
   "outputs": [
    {
     "data": {
      "image/png": "[encoded data removed]",
      "text/plain": [
       "<Figure size 432x288 with 1 Axes>"
      ]
     },
     "metadata": {},
     "output_type": "display_data"
    }
   ],
   "source": [
    "plt.imshow(xtrain[2,:,:,:].transpose(1,2,0))\n",
    "plt.show()"
   ]
  },
  {
   "cell_type": "code",
   "execution_count": 9,
   "metadata": {},
   "outputs": [],
   "source": [
    "C = 2\n",
    "H = 10\n",
    "layers ={}\n",
    "layers[\"l1\"] = L.Linear(None,H)\n",
    "layers[\"l2\"] = L.Linear(H,C)\n",
    "layers[\"bnorm1\"] = L.BatchNormalization(H)\n",
    "NN = Chain(**layers)"
   ]
  },
  {
   "cell_type": "code",
   "execution_count": 10,
   "metadata": {},
   "outputs": [],
   "source": [
    "def model(x):\n",
    "    h = NN.l1(x)\n",
    "    h = F.relu(h)\n",
    "    h = NN.bnorm1(h)\n",
    "    y = NN.l2(h)\n",
    "    return y"
   ]
  },
  {
   "cell_type": "code",
   "execution_count": 11,
   "metadata": {},
   "outputs": [
    {
     "data": {
      "text/plain": [
       "<chainer.optimizers.momentum_sgd.MomentumSGD at 0x7f89abffb160>"
      ]
     },
     "execution_count": 11,
     "metadata": {},
     "output_type": "execute_result"
    }
   ],
   "source": [
    "gpu_device = 0\n",
    "cuda.get_device(gpu_device).use()\n",
    "NN.to_gpu(gpu_device)\n",
    "optNN = Opt.MomentumSGD()\n",
    "optNN.setup(NN)"
   ]
  },
  {
   "cell_type": "code",
   "execution_count": 12,
   "metadata": {},
   "outputs": [],
   "source": [
    "train_loss = []\n",
    "train_acc = []\n",
    "test_loss = []\n",
    "test_acc = []\n",
    "result = [train_loss,test_loss,train_acc,test_acc]"
   ]
  },
  {
   "cell_type": "code",
   "execution_count": 13,
   "metadata": {},
   "outputs": [],
   "source": [
    "nepoch = 5\n",
    "batch_size = 10\n",
    "train_iter = siter(train,batch_size)\n",
    "while train_iter.epoch < nepoch:\n",
    "    batch = train_iter.next()\n",
    "    xtrain,ttrain = con.concat_examples(batch)\n",
    "    data = cuda.to_gpu([xtrain,xtest,ttrain,ttest])\n",
    "    ohm.learning_classification(model,optNN,data,result,1)"
   ]
  },
  {
   "cell_type": "code",
   "execution_count": 14,
   "metadata": {},
   "outputs": [
    {
     "data": {
      "image/png": "[encoded data removed]",
      "text/plain": [
       "<Figure size 576x432 with 1 Axes>"
      ]
     },
     "metadata": {},
     "output_type": "display_data"
    },
    {
     "data": {
      "image/png": "[encoded data removed]",
      "text/plain": [
       "<Figure size 576x432 with 1 Axes>"
      ]
     },
     "metadata": {},
     "output_type": "display_data"
    }
   ],
   "source": [
    "ohm.plot_result2(result[0],result[1],'loss function in training','step','loss function',0.0,4.0)\n",
    "ohm.plot_result2(result[2],result[3],'Accuracy in training and test','step','accuracy',0.0,1.1)"
   ]
  },
  {
   "cell_type": "code",
   "execution_count": null,
   "metadata": {
    "collapsed": true
   },
   "outputs": [],
   "source": []
  }
 ],
 "metadata": {
  "anaconda-cloud": {},
  "kernelspec": {
   "display_name": "Python 3",
   "language": "python",
   "name": "python3"
  },
  "language_info": {
   "codemirror_mode": {
    "name": "ipython",
    "version": 3
   },
   "file_extension": ".py",
   "mimetype": "text/x-python",
   "name": "python",
   "nbconvert_exporter": "python",
   "pygments_lexer": "ipython3",
   "version": "3.7.2"
  }
 },
 "nbformat": 4,
 "nbformat_minor": 2
}
