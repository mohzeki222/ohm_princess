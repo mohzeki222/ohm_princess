{
 "cells": [
  {
   "cell_type": "code",
   "execution_count": 1,
   "metadata": {},
   "outputs": [],
   "source": [
    "#princess.pyをダウンロードしてから以下を実行してください。\n",
    "from google.colab import files\n",
    "uploaded = files.upload()"
   ]
  },
  {
   "cell_type": "code",
   "execution_count": null,
   "metadata": {},
   "outputs": [],
   "source": [
    "import numpy as np\n",
    "import matplotlib.pyplot as plt\n",
    "\n",
    "import chainer.optimizers as Opt\n",
    "import chainer.functions as F\n",
    "import chainer.links as L\n",
    "import chainer.datasets as ds\n",
    "import chainer.dataset.convert as con\n",
    "from chainer import Variable,Chain,config,cuda\n",
    "\n",
    "import princess as ohm"
   ]
  },
  {
   "cell_type": "code",
   "execution_count": 2,
   "metadata": {},
   "outputs": [],
   "source": [
    "train,test = ds.get_fashion_mnist()\n",
    "xtrain,ttrain = con.concat_examples(train)\n",
    "xtest,ttest = con.concat_examples(test)"
   ]
  },
  {
   "cell_type": "code",
   "execution_count": 3,
   "metadata": {},
   "outputs": [
    {
     "name": "stdout",
     "output_type": "stream",
     "text": [
      "60000 784\n"
     ]
    },
    {
     "data": {
      "image/png": "[encoded data removed]",
      "text/plain": [
       "<Figure size 432x288 with 1 Axes>"
      ]
     },
     "metadata": {},
     "output_type": "display_data"
    }
   ],
   "source": [
    "Dtrain,N = xtrain.shape\n",
    "print(Dtrain,N)\n",
    "plt.imshow(xtrain[0,:].reshape(28,28))\n",
    "plt.show()"
   ]
  },
  {
   "cell_type": "code",
   "execution_count": 4,
   "metadata": {},
   "outputs": [],
   "source": [
    "C = ttrain.max()+1\n",
    "\n",
    "NN = Chain(l1=L.Linear(N,400),l2=L.Linear(400,C),\n",
    "                    bnorm1 =  L.BatchNormalization(400))\n",
    "\n",
    "def model(x):\n",
    "    h = NN.l1(x)\n",
    "    h = F.relu(h)\n",
    "    h = NN.bnorm1(h)\n",
    "    y = NN.l2(h)\n",
    "    return y"
   ]
  },
  {
   "cell_type": "code",
   "execution_count": 5,
   "metadata": {},
   "outputs": [
    {
     "data": {
      "text/plain": [
       "<chainer.link.Chain at 0x7fb168416ef0>"
      ]
     },
     "execution_count": 5,
     "metadata": {},
     "output_type": "execute_result"
    }
   ],
   "source": [
    "gpu_device = 0\n",
    "cuda.get_device(gpu_device).use()\n",
    "NN.to_gpu(gpu_device)"
   ]
  },
  {
   "cell_type": "code",
   "execution_count": 6,
   "metadata": {},
   "outputs": [
    {
     "data": {
      "text/plain": [
       "<chainer.optimizers.momentum_sgd.MomentumSGD at 0x7fb1688d9e10>"
      ]
     },
     "execution_count": 6,
     "metadata": {},
     "output_type": "execute_result"
    }
   ],
   "source": [
    "optNN = Opt.MomentumSGD()\n",
    "optNN.setup(NN)"
   ]
  },
  {
   "cell_type": "code",
   "execution_count": 7,
   "metadata": {},
   "outputs": [],
   "source": [
    "train_loss = []\n",
    "train_acc = []\n",
    "test_loss = []\n",
    "test_acc = []\n",
    "\n",
    "data = cuda.to_gpu([xtrain,xtest,ttrain,ttest])\n",
    "result = [train_loss,test_loss,train_acc,test_acc]"
   ]
  },
  {
   "cell_type": "code",
   "execution_count": 10,
   "metadata": {},
   "outputs": [],
   "source": [
    "ohm.learning_classification(model,optNN,data,result,100)"
   ]
  },
  {
   "cell_type": "code",
   "execution_count": 11,
   "metadata": {},
   "outputs": [
    {
     "data": {
      "image/png": "[encoded data removed]",
      "text/plain": [
       "<Figure size 576x432 with 1 Axes>"
      ]
     },
     "metadata": {},
     "output_type": "display_data"
    },
    {
     "data": {
      "image/png": "[encoded data removed]",
      "text/plain": [
       "<Figure size 576x432 with 1 Axes>"
      ]
     },
     "metadata": {},
     "output_type": "display_data"
    }
   ],
   "source": [
    "ohm.plot_result2(result[0],result[1],\"loss function\",\"step\",\"loss function\",0.0,4.0)\n",
    "ohm.plot_result2(result[2],result[3],\"accuracy\",\"step\",\"accuracy\")"
   ]
  },
  {
   "cell_type": "code",
   "execution_count": null,
   "metadata": {},
   "outputs": [],
   "source": []
  },
  {
   "cell_type": "code",
   "execution_count": null,
   "metadata": {},
   "outputs": [],
   "source": []
  }
 ],
 "metadata": {
  "kernelspec": {
   "display_name": "Python 3",
   "language": "python",
   "name": "python3"
  },
  "language_info": {
   "codemirror_mode": {
    "name": "ipython",
    "version": 3
   },
   "file_extension": ".py",
   "mimetype": "text/x-python",
   "name": "python",
   "nbconvert_exporter": "python",
   "pygments_lexer": "ipython3",
   "version": "3.7.2"
  }
 },
 "nbformat": 4,
 "nbformat_minor": 2
}
