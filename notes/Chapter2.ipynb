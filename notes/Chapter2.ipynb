{
 "cells": [
  {
   "cell_type": "code",
   "execution_count": 1,
   "metadata": {},
   "outputs": [],
   "source": [
    "import chainer.optimizers as Opt\n",
    "import chainer.functions as F\n",
    "import chainer.links as L\n",
    "from chainer import Variable ,Chain, config"
   ]
  },
  {
   "cell_type": "code",
   "execution_count": 2,
   "metadata": {},
   "outputs": [],
   "source": [
    "import numpy as np\n",
    "import matplotlib.pyplot as plt"
   ]
  },
  {
   "cell_type": "code",
   "execution_count": 3,
   "metadata": {},
   "outputs": [],
   "source": [
    "D = 100\n",
    "N = 2\n",
    "xdata = np.random.randn(D*N)\\\n",
    "              .reshape(D,N).astype(np.float32)"
   ]
  },
  {
   "cell_type": "code",
   "execution_count": 4,
   "metadata": {},
   "outputs": [],
   "source": [
    "def f(x):\n",
    "    y = x*x\n",
    "    return y"
   ]
  },
  {
   "cell_type": "code",
   "execution_count": 5,
   "metadata": {},
   "outputs": [],
   "source": [
    "tdata = (xdata[:,1] > f(xdata[:,0])).astype(np.int32)"
   ]
  },
  {
   "cell_type": "code",
   "execution_count": 6,
   "metadata": {},
   "outputs": [],
   "source": [
    "C = 2\n",
    "NN = Chain(l1=L.Linear(N,C))"
   ]
  },
  {
   "cell_type": "code",
   "execution_count": 7,
   "metadata": {},
   "outputs": [],
   "source": [
    "def model(x):\n",
    "    y = NN.l1(x)\n",
    "    return y"
   ]
  },
  {
   "cell_type": "code",
   "execution_count": 8,
   "metadata": {},
   "outputs": [
    {
     "name": "stdout",
     "output_type": "stream",
     "text": [
      "variable([[ 0.09587427 -0.44211966]\n",
      "          [-0.09967683 -0.95811117]\n",
      "          [-0.73653734 -2.0558238 ]\n",
      "          [-0.12059036 -1.1387476 ]\n",
      "          [ 0.6281551   1.097607  ]\n",
      "          [ 0.27781802 -0.18827036]\n",
      "          [ 0.26987994  0.6377397 ]\n",
      "          [ 0.3529021   0.7854722 ]\n",
      "          [-0.03844298  0.6398839 ]\n",
      "          [-0.68035996 -1.4483454 ]\n",
      "          [-0.29183614  1.5142581 ]\n",
      "          [ 0.01951127 -1.2489679 ]\n",
      "          [ 0.35314745  0.37023115]\n",
      "          [ 0.19066224 -0.07979311]\n",
      "          [ 0.34407228 -0.10213882]\n",
      "          [ 0.9357681   2.279248  ]\n",
      "          [-0.45256445 -1.0442754 ]\n",
      "          [ 0.5893167   1.9324312 ]\n",
      "          [ 0.4932999   1.6013756 ]\n",
      "          [-0.28333575 -0.9541515 ]\n",
      "          [-0.577527   -1.6332164 ]\n",
      "          [-0.27746117  0.41579935]\n",
      "          [-0.48380306 -0.9888369 ]\n",
      "          [-0.1959585  -1.0677271 ]\n",
      "          [ 0.13509706  0.83511704]\n",
      "          [-0.18827    -0.8252933 ]\n",
      "          [ 0.21593139  0.85657847]\n",
      "          [-0.17934078 -0.4063905 ]\n",
      "          [ 0.14885893 -0.3113514 ]\n",
      "          [-0.7174148  -1.0926845 ]\n",
      "          [ 0.20902127  0.3766813 ]\n",
      "          [-0.33847013 -0.48884404]\n",
      "          [-0.33462462 -0.85369307]\n",
      "          [-0.2388931  -1.0251993 ]\n",
      "          [-0.36747932 -0.7722619 ]\n",
      "          [ 0.56416005  0.4353485 ]\n",
      "          [ 0.1709199   2.6985364 ]\n",
      "          [ 0.9850501   3.1421022 ]\n",
      "          [ 0.09406897  0.505915  ]\n",
      "          [ 0.07108469 -0.21907258]\n",
      "          [ 0.26912138  0.41297224]\n",
      "          [-0.1363386  -0.19245479]\n",
      "          [-0.2148846  -0.19347377]\n",
      "          [-0.882867   -2.1562507 ]\n",
      "          [-0.06903125 -0.04023065]\n",
      "          [ 0.25420877  1.2152569 ]\n",
      "          [ 0.01682566  0.14841023]\n",
      "          [-0.6252892  -2.199688  ]\n",
      "          [ 0.19491802 -0.54324734]\n",
      "          [ 0.430937    1.4264419 ]\n",
      "          [-0.0927572  -0.1620287 ]\n",
      "          [ 1.3637749   1.8318293 ]\n",
      "          [ 0.41155654  1.2406967 ]\n",
      "          [-0.28293127 -0.00689055]\n",
      "          [ 0.20295303  1.091378  ]\n",
      "          [ 0.0670332   1.9713119 ]\n",
      "          [ 0.09934659 -0.6081341 ]\n",
      "          [ 0.25971872  0.9824198 ]\n",
      "          [-0.6122842  -1.1907974 ]\n",
      "          [-0.21531308 -1.0317861 ]\n",
      "          [-0.08349738  1.4134202 ]\n",
      "          [-0.7307722   0.17998666]\n",
      "          [ 0.32720727  0.22111607]\n",
      "          [-0.40945935  0.2871561 ]\n",
      "          [-0.35269126 -0.4542898 ]\n",
      "          [ 0.3759952  -0.21761623]\n",
      "          [ 0.16039029  0.6219924 ]\n",
      "          [ 0.3159769   0.31744403]\n",
      "          [ 0.32142648 -0.82512236]\n",
      "          [-0.10586396  0.05864104]\n",
      "          [-0.21588624 -0.15063213]\n",
      "          [-0.47708565 -0.970063  ]\n",
      "          [ 0.17038593 -0.3150249 ]\n",
      "          [-0.6076493  -0.59174323]\n",
      "          [-0.71661294 -0.33012474]\n",
      "          [-0.06086934 -1.238913  ]\n",
      "          [ 0.28877     1.5533218 ]\n",
      "          [ 0.1364509   0.02246828]\n",
      "          [ 0.5749838   0.6620356 ]\n",
      "          [-0.16923098  0.6426775 ]\n",
      "          [ 0.57020766  3.1642575 ]\n",
      "          [-0.2777657   0.29879606]\n",
      "          [-0.50107795 -0.07847458]\n",
      "          [ 0.6304033   0.92747116]\n",
      "          [ 0.3413741   1.8021373 ]\n",
      "          [ 0.6499611   1.0046325 ]\n",
      "          [-0.701409   -2.1531358 ]\n",
      "          [-0.4956289   0.04819226]\n",
      "          [ 0.1278885   1.6560434 ]\n",
      "          [-0.10106454  0.07412224]\n",
      "          [ 1.0409673   2.0564342 ]\n",
      "          [-0.24881598 -0.35564128]\n",
      "          [ 0.39736718  1.0122788 ]\n",
      "          [-0.26058078 -0.990389  ]\n",
      "          [-0.03889233 -1.0995644 ]\n",
      "          [-0.42905208  0.3338613 ]\n",
      "          [ 0.65179527  0.2899089 ]\n",
      "          [-0.22809651 -1.7472411 ]\n",
      "          [ 0.03436484  0.383976  ]\n",
      "          [ 0.3457867   1.725309  ]])\n"
     ]
    }
   ],
   "source": [
    "ydata = model(xdata)\n",
    "print(ydata)"
   ]
  },
  {
   "cell_type": "code",
   "execution_count": 9,
   "metadata": {},
   "outputs": [
    {
     "name": "stdout",
     "output_type": "stream",
     "text": [
      "variable(0.73)\n"
     ]
    }
   ],
   "source": [
    "acc = F.accuracy(ydata,tdata)\n",
    "print(acc)"
   ]
  },
  {
   "cell_type": "code",
   "execution_count": 10,
   "metadata": {},
   "outputs": [
    {
     "data": {
      "text/plain": [
       "<chainer.optimizers.sgd.SGD at 0xb1fd27588>"
      ]
     },
     "execution_count": 10,
     "metadata": {},
     "output_type": "execute_result"
    }
   ],
   "source": [
    "optNN = Opt.SGD()\n",
    "optNN.setup(NN)"
   ]
  },
  {
   "cell_type": "code",
   "execution_count": 11,
   "metadata": {},
   "outputs": [],
   "source": [
    "loss_series = []\n",
    "acc_series = []"
   ]
  },
  {
   "cell_type": "code",
   "execution_count": 12,
   "metadata": {},
   "outputs": [],
   "source": [
    "T = 5000\n",
    "for time in range(T):\n",
    "    config.train = True\n",
    "    optNN.target.zerograds()\n",
    "    ydata = model(xdata)\n",
    "    loss = F.softmax_cross_entropy(ydata,tdata)\n",
    "    acc = F.accuracy(ydata,tdata)\n",
    "    loss.backward()\n",
    "    optNN.update()\n",
    "    \n",
    "    loss_series.append(loss.data)\n",
    "    acc_series.append(acc.data)"
   ]
  },
  {
   "cell_type": "code",
   "execution_count": 13,
   "metadata": {},
   "outputs": [
    {
     "data": {
      "image/png": "[encoded data removed]",
      "text/plain": [
       "<Figure size 576x432 with 1 Axes>"
      ]
     },
     "metadata": {
      "needs_background": "light"
     },
     "output_type": "display_data"
    }
   ],
   "source": [
    "Tall = len(loss_series)\n",
    "plt.figure(figsize=(8,6))\n",
    "plt.plot(range(Tall),loss_series)\n",
    "plt.title(\"loss function in training\")\n",
    "plt.xlabel(\"step\")\n",
    "plt.ylabel(\"loss function\")\n",
    "plt.xlim([0,Tall])\n",
    "plt.ylim([0,1])\n",
    "plt.show()              "
   ]
  },
  {
   "cell_type": "code",
   "execution_count": 14,
   "metadata": {},
   "outputs": [
    {
     "data": {
      "image/png": "[encoded data removed]",
      "text/plain": [
       "<Figure size 576x432 with 1 Axes>"
      ]
     },
     "metadata": {
      "needs_background": "light"
     },
     "output_type": "display_data"
    }
   ],
   "source": [
    "plt.figure(figsize=(8,6))\n",
    "plt.plot(range(Tall),acc_series)\n",
    "plt.title(\"accuracy in training\")\n",
    "plt.xlabel(\"step\")\n",
    "plt.ylabel(\"accuracy\")\n",
    "plt.xlim([0,Tall])\n",
    "plt.ylim([0,1])\n",
    "plt.show()              "
   ]
  },
  {
   "cell_type": "code",
   "execution_count": 15,
   "metadata": {},
   "outputs": [],
   "source": [
    "C = 2\n",
    "NN = Chain(l1=L.Linear(N,4),l2=L.Linear(4,C))"
   ]
  },
  {
   "cell_type": "code",
   "execution_count": 16,
   "metadata": {},
   "outputs": [],
   "source": [
    "def model(x):\n",
    "    h = NN.l1(x)\n",
    "    h = F.sigmoid(h)\n",
    "    y = NN.l2(h)\n",
    "    return y"
   ]
  },
  {
   "cell_type": "code",
   "execution_count": 17,
   "metadata": {},
   "outputs": [
    {
     "data": {
      "text/plain": [
       "<chainer.optimizers.sgd.SGD at 0xb2027e438>"
      ]
     },
     "execution_count": 17,
     "metadata": {},
     "output_type": "execute_result"
    }
   ],
   "source": [
    "optNN = Opt.SGD()\n",
    "optNN.setup(NN)"
   ]
  },
  {
   "cell_type": "code",
   "execution_count": 18,
   "metadata": {},
   "outputs": [],
   "source": [
    "loss_series = []\n",
    "acc_series = []"
   ]
  },
  {
   "cell_type": "code",
   "execution_count": 19,
   "metadata": {},
   "outputs": [],
   "source": [
    "T = 20000\n",
    "for time in range(T):\n",
    "    config.train = True\n",
    "    optNN.target.zerograds()\n",
    "    ydata = model(xdata)\n",
    "    loss = F.softmax_cross_entropy(ydata,tdata)\n",
    "    acc = F.accuracy (ydata,tdata)\n",
    "    loss.backward()\n",
    "    optNN.update()\n",
    "    \n",
    "    loss_series.append(loss.data)\n",
    "    acc_series.append(acc.data)"
   ]
  },
  {
   "cell_type": "code",
   "execution_count": 20,
   "metadata": {},
   "outputs": [
    {
     "data": {
      "image/png": "[encoded data removed]",
      "text/plain": [
       "<Figure size 576x432 with 1 Axes>"
      ]
     },
     "metadata": {
      "needs_background": "light"
     },
     "output_type": "display_data"
    }
   ],
   "source": [
    "Tall = len(loss_series)\n",
    "plt.figure(figsize=(8,6))\n",
    "plt.plot(range(Tall),loss_series)\n",
    "plt.title('loss function in training')\n",
    "plt.xlabel('step')\n",
    "plt.ylabel('loss function')\n",
    "plt.xlim([0,Tall])\n",
    "plt.ylim([0,4])\n",
    "plt.show()              "
   ]
  },
  {
   "cell_type": "code",
   "execution_count": 21,
   "metadata": {},
   "outputs": [
    {
     "data": {
      "image/png": "[encoded data removed]",
      "text/plain": [
       "<Figure size 576x432 with 1 Axes>"
      ]
     },
     "metadata": {
      "needs_background": "light"
     },
     "output_type": "display_data"
    }
   ],
   "source": [
    "plt.figure(figsize=(8,6))\n",
    "plt.plot(range(Tall),acc_series)\n",
    "plt.title('accuracy in training')\n",
    "plt.xlabel('step')\n",
    "plt.ylabel('accuracy')\n",
    "plt.xlim([0,Tall])\n",
    "plt.ylim([0,1])\n",
    "plt.show()              "
   ]
  },
  {
   "cell_type": "code",
   "execution_count": null,
   "metadata": {},
   "outputs": [],
   "source": []
  }
 ],
 "metadata": {
  "kernelspec": {
   "display_name": "Python 3",
   "language": "python",
   "name": "python3"
  },
  "language_info": {
   "codemirror_mode": {
    "name": "ipython",
    "version": 3
   },
   "file_extension": ".py",
   "mimetype": "text/x-python",
   "name": "python",
   "nbconvert_exporter": "python",
   "pygments_lexer": "ipython3",
   "version": "3.7.2"
  }
 },
 "nbformat": 4,
 "nbformat_minor": 1
}
