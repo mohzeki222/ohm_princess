{
  "nbformat": 4,
  "nbformat_minor": 0,
  "metadata": {
    "colab": {
      "name": "chapter0.ipynb",
      "private_outputs": true,
      "provenance": [],
      "collapsed_sections": [],
      "include_colab_link": true
    },
    "kernelspec": {
      "name": "python3",
      "display_name": "Python 3"
    },
    "language_info": {
      "name": "python"
    }
  },
  "cells": [
    {
      "cell_type": "markdown",
      "metadata": {
        "id": "view-in-github",
        "colab_type": "text"
      },
      "source": [
        "<a href=\"https://colab.research.google.com/github/mohzeki222/ohm_princess/blob/master/chapter0.ipynb\" target=\"_parent\"><img src=\"https://colab.research.google.com/assets/colab-badge.svg\" alt=\"Open In Colab\"/></a>"
      ]
    },
    {
      "cell_type": "markdown",
      "metadata": {
        "id": "ikb6qx0CsYev"
      },
      "source": [
        "## **プログラミング事始め**\n",
        "\n",
        "---\n",
        "\n",
        "初めての人はリラックスして始めましょう。\n",
        "以下の説明はプログラミング初心者の方も想定してのものです。\n",
        "プログラミングにある程度慣れている人は不要かもしれません。\n",
        "まずは左上にある「ファイル」から**「ドライブにコピーを保存」**をしてください。\n",
        "ご自身のgoogle driveにこちらのノートブックが保存されて以下のプログラム等を編集しながら実行できます。\n",
        "\n",
        "基本的にプログラムの書かれる「コード」と、ここのようにテキストが書かれる「テキスト」部分によりコードの説明がなされます。「コード」部分では、左側に[ ]マークがあります。実行されたものには番号がつき、どんな順番で実行されていったのか経過を見ることができます。実行するためには、コード部分に触れて、**Shitf+Enter**を押してください。\n",
        "試しに下のコード部分を実行してみましょう。"
      ]
    },
    {
      "cell_type": "code",
      "metadata": {
        "id": "qUXNds33vgUR"
      },
      "source": [
        "print(\"Hello!\")"
      ],
      "execution_count": null,
      "outputs": []
    },
    {
      "cell_type": "markdown",
      "metadata": {
        "id": "EE_0-80fvp74"
      },
      "source": [
        "無事に実行できた場合には、Hello!と言う表示が下に出ます。\n",
        "ここで試したのはprint文というもので、結果の表示に利用します。\n",
        "プログラムといえば、何かしらの計算を行う際にコンピュータに代わりにやってもらうためのものですから、\n",
        "次のような四則演算も可能です。"
      ]
    },
    {
      "cell_type": "code",
      "metadata": {
        "id": "mOOHyhJz1wSK"
      },
      "source": [
        "3 + 5"
      ],
      "execution_count": null,
      "outputs": []
    },
    {
      "cell_type": "code",
      "metadata": {
        "id": "JgYjGT9GzzgD"
      },
      "source": [
        "4 * 2"
      ],
      "execution_count": null,
      "outputs": []
    },
    {
      "cell_type": "markdown",
      "metadata": {
        "id": "6J2WBPu6z1qn"
      },
      "source": [
        "+はそのままで足し算です。*は掛け算をするための記号です。"
      ]
    },
    {
      "cell_type": "markdown",
      "metadata": {
        "id": "ZwcGq5Fb18ef"
      },
      "source": [
        "今のはただの数値同士の計算でしたが、プログラムの際には、計算結果を記録して、それを後から呼び出すこともできます。人間だと記憶し続けなければならないのですが、コンピュータはメモリという記憶を保持する場所を持ち、私たちの代わりに記録していてくれます。やり方は簡単です。好きな文字を「左」に、計算式を「右」にします。"
      ]
    },
    {
      "cell_type": "code",
      "metadata": {
        "id": "YLU8SNm62Ur1"
      },
      "source": [
        "h = 3 + 5"
      ],
      "execution_count": null,
      "outputs": []
    },
    {
      "cell_type": "markdown",
      "metadata": {
        "id": "9CFtvfpA3nKw"
      },
      "source": [
        "今度は計算結果である8が表示されませんでした。それはhという文字に格納されたからです。\n",
        "そういう時はprint(h)としてみましょう。"
      ]
    },
    {
      "cell_type": "code",
      "metadata": {
        "id": "5sspOce_3zq_"
      },
      "source": [
        "print(h)"
      ],
      "execution_count": null,
      "outputs": []
    },
    {
      "cell_type": "markdown",
      "metadata": {
        "id": "OCzGdEUs3y0m"
      },
      "source": [
        "結果の数字がちゃんと表示されましたね。\n",
        "次に覚えておくと便利なのがfor文です。同じ計算を繰り返す場合に利用します。\n",
        "コンピュータはそうした単純作業の繰り返しが得意です。先程の計算結果を格納しておくということを利用すると、次のようなプログラムが面白い結果を生み出します。"
      ]
    },
    {
      "cell_type": "code",
      "metadata": {
        "id": "_zeYyH9_5SpH"
      },
      "source": [
        "h = 0\n",
        "for k in range(0,10):\n",
        "  h = h + 1"
      ],
      "execution_count": null,
      "outputs": []
    },
    {
      "cell_type": "markdown",
      "metadata": {
        "id": "u1I7qglQ8ty7"
      },
      "source": [
        "最初のh=0はもうわかりますね？\n",
        "hに0という数字を格納します。\n",
        "これを実行すると、range(0,10)というところで指定されたように、\n",
        "for文で指定された文字kが0から10の手前まで変化しながら、for文のなかに含まれる計算を続けます。\n",
        "つまり、kは0,1,2,3,4,5,6,7,8,9と変化しながら\n",
        "h = h + 1という計算を続けます。\n",
        "hに1を足して、その結果をhに入れ直すということです。\n",
        "これを合計10回繰り返しますから、その結果はh=10となるはずです。\n",
        "みてみましょう。"
      ]
    },
    {
      "cell_type": "code",
      "metadata": {
        "id": "gtXHIflg9-KG"
      },
      "source": [
        "print(h)"
      ],
      "execution_count": null,
      "outputs": []
    },
    {
      "cell_type": "markdown",
      "metadata": {
        "id": "EYA2u2e5BR4w"
      },
      "source": [
        "これは高校で学ぶ数列のうち、等差数列に相当しますね。+1というのが差で、だんだんと数字が大きくなっていきます。もちろん等差数列の一般項を学んだ記憶がある人も多いかと思いますが、そうした計算も上記のようなプログラミングで一瞬にして計算してくれます。"
      ]
    },
    {
      "cell_type": "markdown",
      "metadata": {
        "id": "dwhy8Nf4-ByA"
      },
      "source": [
        "これがプログラミングの威力の最初ですね。range(0,10)をいじってみると結果が変わって面白いと思いますよ。\n",
        "0が始まりの数値で、10の手前が終わりの数値です。\n",
        "for文を書く際には**コロン : を忘れない**ようにしてください。\n",
        "そしてfor文の中身は**tabキーで空白を挿入する**ことも忘れないでください。\n",
        "これはここで利用しているpython言語の特徴です。"
      ]
    },
    {
      "cell_type": "markdown",
      "metadata": {
        "id": "amEGRowX_Z9t"
      },
      "source": [
        "さてせっかくkの値が変化しているのですから、同じものを足し算するのではなく、計算を進めるたびに違うものを足しても良いでしょう。\n",
        "次のようなプログラムを考えてみましょう。"
      ]
    },
    {
      "cell_type": "code",
      "metadata": {
        "id": "bDtZEsR9_kHn"
      },
      "source": [
        "h = 0\n",
        "for k in range(0,10):\n",
        "  h = h + k"
      ],
      "execution_count": null,
      "outputs": []
    },
    {
      "cell_type": "markdown",
      "metadata": {
        "id": "DGRmjass_nj5"
      },
      "source": [
        "このプログラムではfor文の中にh+kという計算式がありますね。kは最初は0ですから、\n",
        "最初は h = 0 + 0という計算になります。つまり h = 0 です。\n",
        "次はkが1に変わりますので h = 0 + 1という計算で、h = 1となります。\n",
        "さらにkが2に変わりますから h = 1 + 2という計算が次に行われて、h = 3となります。\n",
        "これを繰り返していくと、、、いやまずは自分で手計算をして、プログラミング結果と一致するか確認すると良いですよ。とは言っても次に行きたいでしょうから、その結果は45になるはずです。"
      ]
    },
    {
      "cell_type": "code",
      "metadata": {
        "id": "iyphBdbeCpd9"
      },
      "source": [
        "print(h)"
      ],
      "execution_count": null,
      "outputs": []
    },
    {
      "cell_type": "markdown",
      "metadata": {
        "id": "2bE-_xpzCrw4"
      },
      "source": [
        "ね？なっているでしょう？こうした繰り返しごとに変わる計算もすぐに実行することができます。\n",
        "そのため、ちょっと難しい計算を実際に手を動かしてやらないでコンピュータに任せることができるわけです。\n",
        "それでは高校や大学で、なぜ私たちはその難しい計算を学ぶ必要があるのでしょうか。\n",
        "それはコンピュータに任せた結果が正しいものかどうかを確認することができなければ、\n",
        "そのプログラムが正しく動作しているかどうか全く判別がつかず、最終的に恐ろしい不具合を招く可能性があるからです。\n",
        "途中の計算、些細なところからでも、一つ一つ動作を確認して、思い通りの計算が進められているか、しっかりと確認する癖をつけましょう。"
      ]
    },
    {
      "cell_type": "markdown",
      "metadata": {
        "id": "WU8ndsY3tEuo"
      },
      "source": [
        "## **練習問題**\n",
        "\n",
        "---\n",
        "\n",
        "同じものを足し算し続けるプログラムは上記の例の通りです。\n",
        "それでは同じものを掛け算し続けるプログラムを書いてみましょう。 \n",
        "\n",
        "ヒント） 掛け算は「*」で表します。\n",
        "\n",
        "\n",
        "**問：最初の数字は1として、何度も2を12回掛け算するプログラムを作成してみましょう。**\n",
        "\n",
        "**答： 4096**"
      ]
    },
    {
      "cell_type": "code",
      "metadata": {
        "id": "cCOcWHM7h3IE"
      },
      "source": [
        ""
      ],
      "execution_count": null,
      "outputs": []
    },
    {
      "cell_type": "markdown",
      "metadata": {
        "id": "CfbyFEL5h4Lj"
      },
      "source": [
        "プログラムをする「コード」部分を追加したい場合は、画面左上にある**+コードをクリックしましょう**。"
      ]
    },
    {
      "cell_type": "markdown",
      "metadata": {
        "id": "uOOq5N_B-PKd"
      },
      "source": [
        "## **高校生はプログラミングが得意！？**\n",
        "先ほどもちょっと登場しましたが、高校数学では数列という単元があります。\n",
        "数字の列が並んでいて、それを足し算したり、そのルールを解明したりする分野です。\n",
        "例えば次のようなものがその例として挙げられます。\n",
        "\\begin{equation}\n",
        "1, 2, 3, 4, \\ldots, 100\n",
        "\\end{equation}\n",
        "このように$1$ずつ足し算される、同じ数字が足し算されるものを**等差数列**と呼びます。\n",
        "その等差数列の和を計算する場合には次のような計算をすることになります。\n",
        "\\begin{equation}\n",
        "1+2+3+4+\\ldots+100\n",
        "\\end{equation}\n",
        "これを手で計算するのは面倒ですね。\n",
        "その昔ガウスは効率の良い計算公式を見出したことは有名ですが、そういうものが思いつかない場合には愚直な計算をするほかありません。\n",
        "そうしたときにコンピュータに代わりにやってもらうということになります。"
      ]
    },
    {
      "cell_type": "markdown",
      "metadata": {
        "id": "AXO2r56vBJOo"
      },
      "source": [
        "コンピュータにいきなりやってもらう前に、高校ではどのようなことを教わっていたのかを思い出してみましょう。\n",
        "例えば1+2+3+4+...+100と続く計算は、\n",
        "\\begin{equation}\n",
        "1+2+3+4+\\ldots+100 = \\sum_{k=1}^{100} k\n",
        "\\end{equation}\n",
        "と書くということを教わります。\n",
        "右側に出てきたものはシグマ記号（$\\Sigma$）というものです。\n",
        "シグマ記号（$\\Sigma$）が登場して驚く読者もいると思います。高校生だけでなく大学生すらも怯えるのがシグマ記号です。社会人の皆さんにはあまり良い記憶はないかもしれません。\n",
        "\n",
        "ただシグマ記号を始め、数学の記号は読むことのできるものであり、その読み方さえ倣えば怖いものではありません。\n",
        "シグマ記号は\n",
        "**「下についた文字の始まりから上に書いてある終わりまで、その数値を変えながら、どんどん足していくぞ」**\n",
        "という宣言をするものです。だから**たくさん足し算するぞ**と言っているだけです。\n",
        "\n",
        "実際にこの例では、シグマ記号の下には\n",
        "最初は$k=1$から、つまりfromの情報があり、\n",
        "上には$100$とありますが、toの情報があるというわけです。\n",
        "こうした記号が用意される理由は、左のような数式の書き方をすると長くなるから、短く書くための工夫です。\n",
        "そうであればわかりにくいな、と思ったらわざわざ長く書いても差し支えありません。\n",
        "自分でわかるように書いた方が良いですよね。"
      ]
    },
    {
      "cell_type": "markdown",
      "metadata": {
        "id": "5qagrq0W-PNH"
      },
      "source": [
        "さてこのシグマ記号を用いた記法でもうひとつ嫌な部分があります。\n",
        "\n",
        "先ほどまでは具体的な数字だった$1,2,3,\\ldots,100$がなくなり、$k$という文字に替わりました。\n",
        "この$k$という文字は、\n",
        "\n",
        "**シグマ記号の中では$1$から$100$までその数値を変えます。**\n",
        "\n",
        "ここでなぜ高校数学でシグマ記号を教わるのかがわかったかと思います。\n",
        "\n",
        "先ほど紹介したプログラミングの基礎のひとつfor文を思い出してみてください。\n",
        "\n",
        "for文の中では同じように指定した文字が、\n",
        "\n",
        "**決められた始まりの数値から終わりの手前の数値まで、その値を変えながら繰り返して同じ計算をする**\n",
        "\n",
        "ことができました。\n",
        "\n",
        "シグマ記号はfor文と同じことを言っていることに気づきます。\n",
        "そうです。\n",
        "\n",
        "高校数学でシグマ記号を学ぶのは、単なる略記法を教えたいというわけではなく、\n",
        "**コンピュータプログラムとの対話方法を伝授するため**だったのです。\n"
      ]
    },
    {
      "cell_type": "markdown",
      "metadata": {
        "id": "--AMe0XvD0dW"
      },
      "source": [
        "それでは再びプログラミングしてみましょう。$1$から$100$までの数字を足し算するようなfor文によるプログラムを書いてみましょう。\n"
      ]
    },
    {
      "cell_type": "code",
      "metadata": {
        "id": "Cag4IxzFD9jK"
      },
      "source": [
        "h = 0\n",
        "for k in range(1,101):\n",
        "  h = h + k\n",
        "print(h)"
      ],
      "execution_count": null,
      "outputs": []
    },
    {
      "cell_type": "markdown",
      "metadata": {
        "id": "oYz65oD_EIYO"
      },
      "source": [
        "ここでシグマ記号の中にある$k$と同じものがプログラムの中に登場していることに気づきますね。\n",
        "\n",
        "始まりはrange(1,101)で指定するように$k=1$から$k=100$まで（**rangeでは101と書き、その手前の$100$までを足し算します**）\n",
        "その値を変えながら、hという途中結果が格納されたところに足し算されていきます。\n",
        "最後の結果を取り出すためには、\n",
        "\n",
        "print(h)\n",
        "\n",
        "をすることは忘れないように（**ここでtabによる空白は使わないことに注意してください**）"
      ]
    },
    {
      "cell_type": "markdown",
      "metadata": {
        "id": "s_olFnlaFJ5Z"
      },
      "source": [
        "## **練習問題**\n",
        "\n",
        "---\n",
        "\n",
        "**問：次の数列の和を計算するプログラムを作って計算してみよう。**\n",
        "\\begin{equation}\n",
        "1,3,5,7,\\ldots,101\n",
        "\\end{equation}\n",
        "\n",
        "ヒント） まずはシグマ記号で書いてみよう。\n",
        "\n",
        "**答： 2500**"
      ]
    },
    {
      "cell_type": "code",
      "metadata": {
        "id": "z9giItsAEixW"
      },
      "source": [
        ""
      ],
      "execution_count": null,
      "outputs": []
    },
    {
      "cell_type": "markdown",
      "metadata": {
        "id": "KzOTZfgW-PP5"
      },
      "source": [
        "こうした数列の扱いは、とりわけpython上では容易に扱うことができます。\n",
        "そうした数列の扱いを得意としたプログラムを多く持つライブラリとして、numpyというものがあります。\n",
        "これを早速利用しましょう。\n",
        "そうした便利なライブラリがたくさんあるのがpythonの特徴です。"
      ]
    },
    {
      "cell_type": "code",
      "metadata": {
        "id": "ZtQbnQUcGux1"
      },
      "source": [
        "import numpy as np"
      ],
      "execution_count": null,
      "outputs": []
    },
    {
      "cell_type": "markdown",
      "metadata": {
        "id": "JbyxiwmiGyAK"
      },
      "source": [
        "ここでimportとありますが、「輸入する」という英単語ですが、\n",
        "その名の通り、私たちのプログラミング環境に輸入する、ということです。\n",
        "\n",
        "**numpyの機能を取り入れる**ということになります。\n",
        "\n",
        "そしてas npというのは、**numpyの機能を呼び出すときには、省略してnpと呼ぶ、という宣言**になります。\n",
        "\n",
        "このnumpyを利用して、数学の計算をうまく実行することができるようになります。\n",
        "まずは簡単に数列を作る方法です。"
      ]
    },
    {
      "cell_type": "code",
      "metadata": {
        "id": "Do9SUZ6zGCek"
      },
      "source": [
        "np.array(range(0,10))"
      ],
      "execution_count": null,
      "outputs": []
    },
    {
      "cell_type": "markdown",
      "metadata": {
        "id": "dVEiRyq1GH1N"
      },
      "source": [
        "range(0,10)は今までにも使ってきましたのでわかりますね。$0$から初めて$10$の手前まで数値を変えるためにfor文に使われていたものでした。\n",
        "その際に出てくる数値を全て羅列させたものを数列にしましょう。\n",
        "そのためにnp.array()という関数を利用します。\n",
        "これを利用すると全ての数値が一気に出力されます。\n",
        "うまくいったら数値が並び、array()という括弧がついているはずです。\n"
      ]
    },
    {
      "cell_type": "markdown",
      "metadata": {
        "id": "TulBZHdTS6E-"
      },
      "source": [
        "これはひとつの文字に格納することができます。複数の数字がひとつの文字に格納されるというのは、まるで**ベクトル**のようですね。"
      ]
    },
    {
      "cell_type": "code",
      "metadata": {
        "id": "jiaqVX2bTKq1"
      },
      "source": [
        "h = np.array(range(0,10))"
      ],
      "execution_count": null,
      "outputs": []
    },
    {
      "cell_type": "markdown",
      "metadata": {
        "id": "8gBh2LEmTUuO"
      },
      "source": [
        "このhには$0,1,2,\\ldots,9$という複数の数字が含まれています。\n",
        "numpyのarrayで扱われている場合は、それぞれの数字に計算が一気に実行されるという特別な機能を持ちます。\n",
        "どういうことかということがピンとこないかもしれないので、試しに計算をしてみましょう。\n",
        "それぞれの数字に$3$を足すということをしてみましょう。"
      ]
    },
    {
      "cell_type": "code",
      "metadata": {
        "id": "stWPXqkYTyov"
      },
      "source": [
        "h+3"
      ],
      "execution_count": null,
      "outputs": []
    },
    {
      "cell_type": "markdown",
      "metadata": {
        "id": "AfXVasGmT0xC"
      },
      "source": [
        "一見するとhという文字に3を足すだけですからただの足し算のように見えるかもしれません。\n",
        "しかし、その意味はhに含まれる数値全てに同じように$3$を足します。\n",
        "これは非常に便利な機能ですよね？\n",
        "なんだか色々な計算をしてみたくなりますよね。\n",
        "例えば全ての要素を$2$倍をするとか"
      ]
    },
    {
      "cell_type": "code",
      "metadata": {
        "id": "n3fb9UF9UR-u"
      },
      "source": [
        "2*h"
      ],
      "execution_count": null,
      "outputs": []
    },
    {
      "cell_type": "markdown",
      "metadata": {
        "id": "_C10zCCzUTnb"
      },
      "source": [
        "簡単に掛け算をすることができました。これは公差$2$の等差数列ですね。\n",
        "これの和はどうなるでしょうか。またfor文を使って計算しましょうか？\n",
        "実はこうした数列の合計を求めるには、次のような関数が用意されています。"
      ]
    },
    {
      "cell_type": "code",
      "metadata": {
        "id": "We7NjIpVUeIj"
      },
      "source": [
        "np.sum(h)"
      ],
      "execution_count": null,
      "outputs": []
    },
    {
      "cell_type": "markdown",
      "metadata": {
        "id": "duYBp_QJUxfX"
      },
      "source": [
        "sum、そうsummation、和を取るという英単語から来ている関数です。\n",
        "こうした数列の総和を取ることができます。"
      ]
    },
    {
      "cell_type": "markdown",
      "metadata": {
        "id": "RM-DFmag-mEw"
      },
      "source": [
        "## **データサイエンスとプログラミング**\n",
        "\n",
        "近年こうしたプログラミングへの興味関心が高まってきました。\n",
        "その背景にはデータサイエンスという学術分野が研究開発の世界で重要視されるようになり、その必須スキルとしてプログラミングが挙げられているという背景もあります。\n",
        "データというのは、様々な現象や事実の記録からなります。\n",
        "そうしたデータをコンピュータ上に数値化して記録しておけば、様々な計算や処理をプログラミングを通して実行することができます。\n",
        "要するに楽をするためにコンピュータの力を借りようというわけです。\n",
        "都合が良いですね。\n"
      ]
    },
    {
      "cell_type": "markdown",
      "metadata": {
        "id": "rVYOVjbFZhFn"
      },
      "source": [
        "### 乱数ででたらめデータを作ろう\n",
        "\n",
        "何かしらのデータを引っ張ってくる前に、まずは人工データというやつです。適当に作ったデータに対して、せっかく利用し始めたnumpyのことを知っていきましょう。\n",
        "「適当に作る」というのはでたらめな数字で作るという意味です。\n",
        "でたらめな数字を数学では乱数と言ったりします。乱れた数字です。\n",
        "numpyにはそうした乱れた数字からなる列を作り出す関数が用意されています。"
      ]
    },
    {
      "cell_type": "code",
      "metadata": {
        "id": "3tngY62eZAc6"
      },
      "source": [
        "np.random.rand(10)"
      ],
      "execution_count": null,
      "outputs": []
    },
    {
      "cell_type": "markdown",
      "metadata": {
        "id": "VLif8OkAaTmh"
      },
      "source": [
        "np.random.randというのは、$0$から$1$の間ででたらめな数字を作るという関数です。(10)として、そういうでたらめな数字を10個作ってくださいという指示をしています。"
      ]
    },
    {
      "cell_type": "markdown",
      "metadata": {
        "id": "hiUwgh_KakAB"
      },
      "source": [
        "### データを可視化しよう\n",
        "\n",
        "こうしたたくさんの訳のわからない数字からなるデータ、から傾向をつかもうという訳です。\n",
        "まずはこうしたデータはどんな傾向があるのか、わかりやすく知りたいですよね。\n",
        "そうしたときに必要なことが**データの可視化**です。見える化です。\n",
        "そこで見える化のためのライブラリを呼び出します。"
      ]
    },
    {
      "cell_type": "code",
      "metadata": {
        "id": "NLXxaGnfa0tB"
      },
      "source": [
        "import matplotlib.pyplot as plt"
      ],
      "execution_count": null,
      "outputs": []
    },
    {
      "cell_type": "markdown",
      "metadata": {
        "id": "C1kfC2Eda_rj"
      },
      "source": [
        "matplotlibの中にあるpyplotというライブラリを呼び出しました。それをpltとして省略して呼ぶことにします。"
      ]
    },
    {
      "cell_type": "markdown",
      "metadata": {
        "id": "Jds1vCr1bHCB"
      },
      "source": [
        "このライブラリを用いるとデータの可視化が簡単に行えます。先ほど用意したでたらめな数値列を並べて表示してみましょう。\n",
        "まずそのためには乱数を何かの文字に格納しておきましょう。"
      ]
    },
    {
      "cell_type": "code",
      "metadata": {
        "id": "UkOvcE4NbR7Y"
      },
      "source": [
        "y = np.random.rand(10)"
      ],
      "execution_count": null,
      "outputs": []
    },
    {
      "cell_type": "markdown",
      "metadata": {
        "id": "O6gwDCFbbfGx"
      },
      "source": [
        "ここでは$y$という文字に格納しました。でたらめな数字は作り出すたびに結果が変わりますので、先ほどのものとは異なる数列になっています。\n",
        "さてこのyを可視化してみましょう。"
      ]
    },
    {
      "cell_type": "code",
      "metadata": {
        "id": "mgbwsT5KbPI5"
      },
      "source": [
        "plt.plot(y)\n",
        "plt.show()"
      ],
      "execution_count": null,
      "outputs": []
    },
    {
      "cell_type": "markdown",
      "metadata": {
        "id": "xySdtcDEb6Xw"
      },
      "source": [
        "このような2行のプログラムを打ちます。\n",
        "\n",
        "最初の１行目はyという数列をplot（点を打つ）するというものです。\n",
        "\n",
        "2行目はその結果を表示せよ、という意味です。この簡単２行だけで結果を可視化することができます。\n",
        "これが基本です。本当に正しく結果が表示されているのかが心配なときは、print文で見てみましょう。"
      ]
    },
    {
      "cell_type": "code",
      "metadata": {
        "id": "j4LX5vsMcmdG"
      },
      "source": [
        "print(y)"
      ],
      "execution_count": null,
      "outputs": []
    },
    {
      "cell_type": "markdown",
      "metadata": {
        "id": "gN2LemhGsXEk"
      },
      "source": [
        "このyの一つ一つの要素を取り出したいときは、次のようにy[k]という表記をします。"
      ]
    },
    {
      "cell_type": "code",
      "metadata": {
        "id": "E1X-QG6Osesx"
      },
      "source": [
        "print(y[3])"
      ],
      "execution_count": null,
      "outputs": []
    },
    {
      "cell_type": "markdown",
      "metadata": {
        "id": "DWuOOflHsglv"
      },
      "source": [
        "ここではy[3]で4番目の要素を取り出しています。少々ややこしいのがy[0]が1つ目の要素。y[1]は2つ目の要素を取り出すということで、[]内の数字と一個ズレるのに注意してください。"
      ]
    },
    {
      "cell_type": "markdown",
      "metadata": {
        "id": "L4VGrrte-d7o"
      },
      "source": [
        "### 平均でデータの傾向を知る\n",
        "\n",
        "こうしたたくさんの数字が並んでいる場合に傾向を探るための量として、平均があります。\n",
        "合計したものを、その数字がいくつあるのかを示す数で割ったものです。\n",
        "つまり数列を$x_1,x_2,x_3,\\ldots,x_n$としたとき、\n",
        "\\begin{equation}\n",
        "x_{\\rm mean} = \\frac{1}{n}\\left( x_1+x_2+\\ldots+x_n \\right)\n",
        "\\end{equation}\n",
        "これもシグマ記号を使って書いて小洒落ても良いですね。\n",
        "\\begin{equation}\n",
        "x_{\\rm mean} = \\frac{1}{n}\\sum_{k=1}^n x_k\n",
        "\\end{equation}\n",
        "今の場合は10個の数字が並んでいますからnp.sum()を使って合計から10を割りましょう。\n",
        "割り算は簡単にスラッシュ(/)でできます。"
      ]
    },
    {
      "cell_type": "code",
      "metadata": {
        "id": "ksZBP8E6dZ3T"
      },
      "source": [
        "np.sum(y)/10"
      ],
      "execution_count": null,
      "outputs": []
    },
    {
      "cell_type": "markdown",
      "metadata": {
        "id": "5rURs_N4sw82"
      },
      "source": [
        "同じ計算を習いたてのfor文を使って書くこともできます。"
      ]
    },
    {
      "cell_type": "code",
      "metadata": {
        "id": "hyqrIanSs1AM"
      },
      "source": [
        "h = 0\n",
        "for k in range(0,10):\n",
        "  h = h + y[k]\n",
        "h = h/10\n",
        "print(h)"
      ],
      "execution_count": null,
      "outputs": []
    },
    {
      "cell_type": "markdown",
      "metadata": {
        "id": "8auXzdBss9lD"
      },
      "source": [
        "まずは計算の結果を格納するhを0と初期化します。初期化というのははじめに変な値が入っていないことが確実になるようにすることです。このhにy[0]、y[1]、、、と次々に足していけば合計が計算できますね。\n",
        "ここで[]の中身にkを用いているところが驚くかもしれません。こういう使い方もできます。\n",
        "でてきた計算結果は合計ですから、その結果を10で割り、平均の計算とします。"
      ]
    },
    {
      "cell_type": "markdown",
      "metadata": {
        "id": "XkolY3lXd04n"
      },
      "source": [
        "この平均はここまでで２通りの計算方法を示したましたが、実はnumpyの関数でnp.mean()というものがあります。meanは平均を示す英単語です。"
      ]
    },
    {
      "cell_type": "code",
      "metadata": {
        "id": "6wq2MLiSd7fc"
      },
      "source": [
        "np.mean(y)"
      ],
      "execution_count": null,
      "outputs": []
    },
    {
      "cell_type": "markdown",
      "metadata": {
        "id": "_WY1bl8JNZPY"
      },
      "source": [
        "どれも同じ結果になりますね。\n",
        "こうしてみたようにやりたいことに対して、いくつかの書き方があるのがプログラミングの面白さです。\n",
        "もちろん出来合いのnp.mean()が最も簡単ですが、それはあらかじめ用意されているから、とも言えます。\n",
        "もしも用意されていなければ自分で作る必要があります。\n",
        "用意された関数を組み合わせて、自分の必要とする計算を作り出すところがプログラミングの工夫のしどころです。\n",
        "その意味で、プログラミングは勉強すればするほど、自分の経験から良い書き方ができるようになるので、\n",
        "成長を実感しやすいという特徴があります。\n"
      ]
    },
    {
      "cell_type": "markdown",
      "metadata": {
        "id": "EEMGn6rFt_zf"
      },
      "source": [
        "### 分散でデータの散らばり具合を知る"
      ]
    },
    {
      "cell_type": "markdown",
      "metadata": {
        "id": "WpmH9Jnqt97K"
      },
      "source": [
        "さて平均は、その数字の周りにたくさんの数字が分布している、バラバラ散らばっているのだな、ということがうかがいすることができます。\n",
        "どれだけの範囲に広がっているのかを示す指標が分散というもので、次のように計算することができます。\n",
        "\\begin{equation}\n",
        "x_{\\rm var} = \\frac{1}{n} \\sum_{k=1}^n \\left( x_k - x_{\\rm mean} \\right)^2\n",
        "\\end{equation}\n",
        "この計算通りにプログラムを組むことはできるでしょうか？\n",
        "足し算をすれば良いことがわかりますからfor文の出番かもしれませんね。\n",
        "何を足すのか、と考えると数列の各要素から平均を引いたものを二乗したものということですから、その通り書きましょう。"
      ]
    },
    {
      "cell_type": "code",
      "metadata": {
        "id": "OeRhRMszucZb"
      },
      "source": [
        "h = 0\n",
        "m = np.mean(y)\n",
        "for k in range(0,10):\n",
        "  h = h + (y[k] - m)**2\n",
        "h = h/10\n",
        "print(h)"
      ],
      "execution_count": null,
      "outputs": []
    },
    {
      "cell_type": "markdown",
      "metadata": {
        "id": "jnEvH1Jxwd84"
      },
      "source": [
        "いかがでしょうか。最初にhは初期化する。そして今回は、途中で何度も出てくる平均値をmとして格納して、何度も計算しないようにしています。\n",
        "これはプログラミングの工夫で重要なことです。同じことを繰り返すのが得意といえども、コンピュータに計算は負担がかかることですから、できるだけ楽をさせてあげましょう。同じことは繰り返しさせないように。\n",
        "そして引き算はy[k]-mとして、マイナスをすれば良く、数式のままにカッコをつけて、二乗する。\n",
        "2乗は**2として表記します。3乗もお手の物で**3とすればOKです。\n",
        "最後に要素数10で割り算して計算完了。\n"
      ]
    },
    {
      "cell_type": "markdown",
      "metadata": {
        "id": "yIOCCVhWxBD_"
      },
      "source": [
        "もちろんこの計算も別の書き方があります。足し算をするのですから、np.sum()を使っても計算できます。"
      ]
    },
    {
      "cell_type": "code",
      "metadata": {
        "id": "CplbG07yxG71"
      },
      "source": [
        "np.sum((y-m)**2)/10"
      ],
      "execution_count": null,
      "outputs": []
    },
    {
      "cell_type": "markdown",
      "metadata": {
        "id": "8288yymlxMZ9"
      },
      "source": [
        "いかがでしょうか。yという数列全体にmを一斉に引き算して、全部一斉に2乗する。\n",
        "それを合計してから要素数の10で割り算をする。同じ結果になりましたね。\n",
        "\n",
        "実はこの計算もnumpyの中に既に用意されていてnp.var()として計算することができます。"
      ]
    },
    {
      "cell_type": "code",
      "metadata": {
        "id": "liAoezk2dcFs"
      },
      "source": [
        "np.var(y)"
      ],
      "execution_count": null,
      "outputs": []
    },
    {
      "cell_type": "markdown",
      "metadata": {
        "id": "8J3zHxYkqrkW"
      },
      "source": [
        "便利ですから、知っていればそれを使えばよいのですが、ちょっと自分で格好よく短くプログラミングできそうかどうか、\n",
        "少し考えてみると楽しくなることでしょう。"
      ]
    },
    {
      "cell_type": "markdown",
      "metadata": {
        "id": "_BXqgIoNxnA4"
      },
      "source": [
        "## 大学生はプログラミングでさらに楽しく！？"
      ]
    },
    {
      "cell_type": "markdown",
      "metadata": {
        "id": "ee2ASDr4xqx9"
      },
      "source": [
        "高校でも学びますが、大学生の必須の科目として「線形代数」、そしてその関連科目があるかと思います。\n",
        "ベクトルや行列といった計算をたくさん行います。\n",
        "手で計算するのは大変ですが、実はプログラミングで大規模な行列とベクトルでも一瞬にして計算することができます。"
      ]
    },
    {
      "cell_type": "markdown",
      "metadata": {
        "id": "-dIvRDH8yJZE"
      },
      "source": [
        "例えばベクトルの内積。\n",
        "\\begin{equation}\n",
        "{\\bf a}\\cdot {\\bf b} = a_1b_1 + a_2 b_2 + \\ldots +a_n b_n\n",
        "\\end{equation}\n",
        "ここで2つのベクトルを${\\bf a} = (a_1,a_2,\\ldots,a_n)$、${\\bf a} = (b_1,b_2,\\ldots,b_n)$としています。\n",
        "これを計算するのは手で計算せよ、と言われると大変ですが、まず数学ではシグマ記号の略記方法を導入することができますね。\n",
        "\\begin{equation}\n",
        "{\\bf a}\\cdot {\\bf b} = \\sum_{k=1}^n a_k b_k\n",
        "\\end{equation}\n",
        "忘れた頃にまたシグマ記号を思い出させています。\n",
        "これで$a_kb_k$を何度も足し算すれば良いから内積の計算もプログラムすることができそうです。\n",
        "そうですfor文を使いましょう。"
      ]
    },
    {
      "cell_type": "code",
      "metadata": {
        "id": "ZBnq0NjWNX_6"
      },
      "source": [
        "h = 0 \n",
        "a = np.random.rand(10)\n",
        "b = np.random.rand(10)\n",
        "\n",
        "for k in range(0,10):\n",
        "  h = h + a[k]*b[k]\n",
        "print(h)"
      ],
      "execution_count": null,
      "outputs": []
    },
    {
      "cell_type": "markdown",
      "metadata": {
        "id": "nJ4Ibkwyz9Wz"
      },
      "source": [
        "aとbにはでたらめな乱数をnp.random.rand()でそれぞれ用意しました。\n",
        "a[k][*b[k]でそれぞれの要素をかけたものを計算して、それを何度も足し算するというプログラムになっていますね。\n",
        "この内積計算についても、幸いなことにnumpyで用意されています。\n"
      ]
    },
    {
      "cell_type": "code",
      "metadata": {
        "id": "YRIKuspk0XQx"
      },
      "source": [
        "np.dot(a,b)"
      ],
      "execution_count": null,
      "outputs": []
    },
    {
      "cell_type": "markdown",
      "metadata": {
        "id": "iH9yoebh0aw_"
      },
      "source": [
        "同じように行列（縦と横に数値が並んだもの）も用意することができます。\n",
        "適当な乱数による行列は次のように作ります。"
      ]
    },
    {
      "cell_type": "code",
      "metadata": {
        "id": "iv58mNqDzkvS"
      },
      "source": [
        "A = np.random.randn(10,10)\n",
        "print(A)"
      ],
      "execution_count": null,
      "outputs": []
    },
    {
      "cell_type": "markdown",
      "metadata": {
        "id": "4-Zg4bh60thr"
      },
      "source": [
        "この行列Aとベクトルbの内積なんていうのも簡単に計算することができます。"
      ]
    },
    {
      "cell_type": "code",
      "metadata": {
        "id": "1UuwxCyu0oe1"
      },
      "source": [
        "np.dot(A,b)"
      ],
      "execution_count": null,
      "outputs": []
    },
    {
      "cell_type": "markdown",
      "metadata": {
        "id": "k092EilO037g"
      },
      "source": [
        "dotというのは、内積を英語でドットプロダクトというところから来ています。\n",
        "行列とベクトルの内積ってどうやって計算するのだっけ？と教科書を紐解くと、酷くめんどくさい計算が記載されています。"
      ]
    },
    {
      "cell_type": "markdown",
      "metadata": {
        "id": "neqbhula1lBr"
      },
      "source": [
        "\\begin{equation}\n",
        "A \\cdot {\\bf b} = \n",
        "\\left(\n",
        "\\begin{array}{cccc}\n",
        "A_{11} & A_{12} & \\cdots & A_{1n} \\\\\n",
        "A_{21} & A_{22} & \\cdots & A_{2n} \\\\\n",
        "\\vdots &   & \\ddots & \\vdots \\\\\n",
        "A_{n1} & A_{n2} & \\cdots & A_{nn} \\\\\n",
        "\\end{array}\n",
        "\\right)\n",
        "\\left(\n",
        "\\begin{array}{cccc}\n",
        "b_{1} \\\\\n",
        "b_{2} \\\\\n",
        "\\vdots \\\\\n",
        "b_{n} \\\\\n",
        "\\end{array}\n",
        "\\right) = \n",
        "\\left(\n",
        "\\begin{array}{c}\n",
        "A_{11}b_1 + A_{12}b_2 + \\cdots + A_{1n}b_n \\\\\n",
        "A_{21}b_1 + A_{22}b_2 + \\cdots + A_{2n}b_n \\\\\n",
        "\\vdots \\\\\n",
        "A_{n1}b_1 + A_{n2}b_2 + \\cdots + A_{nn}b_n \\\\\n",
        "\\end{array}\n",
        "\\right)\n",
        "\\end{equation}"
      ]
    },
    {
      "cell_type": "markdown",
      "metadata": {
        "id": "2UKoEhTJ2Vgm"
      },
      "source": [
        "行列の縦の並びを行、横の並びを列と呼びますが、要するに行ごとに同じような計算をして並べろというわけです。\n",
        "その同じような計算は、ようく眺めると、足し算の繰り返しになっています。\n",
        "少々面倒ですが、自分で書いてみましょうか。\n",
        "まず計算結果は縦に複数並んでいます。行列とベクトルの内積はベクトルという結果になります。\n",
        "これを一つ一つ計算することを考えていきましょう。\n",
        "まず計算結果を格納する場所は1つじゃないということになります。\n",
        "そこで複数個用意しましょう。最初は初期化されたものが欲しい。0がたくさん。0をたくさん並べれば良いですね。"
      ]
    },
    {
      "cell_type": "code",
      "metadata": {
        "id": "__m7NqvL0yaP"
      },
      "source": [
        "h = np.array([0,0,0,0,0,0,0,0,0,0])"
      ],
      "execution_count": null,
      "outputs": []
    },
    {
      "cell_type": "markdown",
      "metadata": {
        "id": "egF4rzzc3hqT"
      },
      "source": [
        "0をたくさん並べました！\n",
        "np.array()で囲むのは、計算を一斉に行うという特徴を持った形式に保存するためのおまじないです。\n",
        "いくつ0が並んでいるのか数えるのも嫌ですよね。\n",
        "便利なのが.shapeと打つと、そのベクトルや行列の形・サイズが分かります。"
      ]
    },
    {
      "cell_type": "code",
      "metadata": {
        "id": "-MhjKmwo1gy2"
      },
      "source": [
        "h.shape"
      ],
      "execution_count": null,
      "outputs": []
    },
    {
      "cell_type": "markdown",
      "metadata": {
        "id": "HzJB9Q8633Wu"
      },
      "source": [
        "ベクトルはもちろん、行列もバッチリです。"
      ]
    },
    {
      "cell_type": "code",
      "metadata": {
        "id": "LckOJyrH3gbP"
      },
      "source": [
        "A.shape"
      ],
      "execution_count": null,
      "outputs": []
    },
    {
      "cell_type": "markdown",
      "metadata": {
        "id": "GEvoR_sY37cb"
      },
      "source": [
        "これで10個の0が並んだ初期化の済んだhを用意することができました。\n",
        "計算をしたいものの一番上を見てみると、$A_{1k}b_{k}$という形で$k$を変えながら足し算しろということが見えてきます。\n",
        "数式がプログラムをするためのヒントになっていることがこれでよく分かります。\n",
        "たくさん並んだ文字を見たら、法則性を見出し、変わっているところ、変わっていないところを探して、\n",
        "変わっているところはfor文を使ってコンピュータに計算させてやろうというわけです。\n",
        "この考察の結果、計算結果の1番目は次のように書くことができるでしょう。"
      ]
    },
    {
      "cell_type": "code",
      "metadata": {
        "id": "CcUFymzF4xKA"
      },
      "source": [
        "for k in range(0,10):\n",
        "  h[0] = h[0] + A[0,k]*b[k]"
      ],
      "execution_count": null,
      "outputs": []
    },
    {
      "cell_type": "markdown",
      "metadata": {
        "id": "Jh4YYVnj5Zms"
      },
      "source": [
        "これが縦にも、同じことが繰り返される、、、繰り返しならもう一度for文を使えば良いのではないか？\n",
        "そう気づいたら、こっちのものです。\n",
        "改めて初期化込みで書き出してみましょう。\n"
      ]
    },
    {
      "cell_type": "code",
      "metadata": {
        "id": "26LGF_BK5Syl"
      },
      "source": [
        "h = np.zeros(10)\n",
        "for i in range(0,10):\n",
        "  for k in range(0,10):\n",
        "    h[i] = h[i] + A[i,k]*b[k]\n",
        "print(h)"
      ],
      "execution_count": null,
      "outputs": []
    },
    {
      "cell_type": "markdown",
      "metadata": {
        "id": "_bpuiN7l6AiW"
      },
      "source": [
        "最初に初期化をしなおして、iによるfor文は、上から下に様々な計算結果を受けるようにhの添え字としてiを動かすために利用します。\n",
        "それぞれの計算は、先ほどと同じように$A_{ik}b_k$の足し算ですから、kによるfor文でかけます。\n",
        "二重のfor文を作るときはtabによる空白を2段階進める必要があります。\n",
        "先ほどのnp.dot()による結果を見事に再現しています。\n",
        "np.dot()で書いた方が確実で短くかけますので、普段はそちらでも良いのですが、\n",
        "同じ計算を違う書き方でできないかな、とは常に考えてください。\n",
        "特にfor文は多くなると計算の速度が低減する要因となります。\n",
        "できるだけfor文のない書き方を目指してください。\n",
        "今回の場合ですと、やはり足し算の部分は、np.sumが使えるのではないか、と考えるはずです。\n",
        "A[i,k]のように要素を1つだけ抜き取る以外にも、行列からベクトルを抜き出すこと、つまり複数の要素を取り出すことができます。"
      ]
    },
    {
      "cell_type": "code",
      "metadata": {
        "id": "5CZa-PXU5w_8"
      },
      "source": [
        "A[0,:]"
      ],
      "execution_count": null,
      "outputs": []
    },
    {
      "cell_type": "markdown",
      "metadata": {
        "id": "C89nN1eA69Tx"
      },
      "source": [
        "このようにコロンを使うと、要素全て、という意味になります。この場合は行列Aのうち、縦の1番目の要素を全て取り出すということになります。これを用いれば、次のようにプログラムを書き換えることができますね。\n"
      ]
    },
    {
      "cell_type": "code",
      "metadata": {
        "id": "-rYCgEbT68Ip"
      },
      "source": [
        "h = np.zeros(10)\n",
        "for i in range(0,10):\n",
        "  h[i] = h[i] + np.dot(A[i,:],b)\n",
        "print(h)"
      ],
      "execution_count": null,
      "outputs": []
    },
    {
      "cell_type": "markdown",
      "metadata": {
        "id": "FWw4bWa67V68"
      },
      "source": [
        "このように同じ計算結果を導く、for文の少ないプログラミングができました。\n",
        "まあやっぱりnp.dot(A,b)で一度に書いた方が見た目にも良いですね。\n",
        "これだけ繰り返したらだんだんと慣れてきたのではないでしょうか。\n",
        "人間の手に負えない計算をコンピュータにやらせることで、これまでにない大規模のデータを処理させていきましょう。それがプログラミングの威力です。"
      ]
    }
  ]
}